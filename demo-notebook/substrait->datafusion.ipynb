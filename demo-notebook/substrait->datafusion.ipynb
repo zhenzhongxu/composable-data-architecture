{
 "cells": [
  {
   "cell_type": "code",
   "execution_count": 5,
   "metadata": {},
   "outputs": [],
   "source": [
    "from datafusion import SessionContext\n",
    "\n",
    "ctx = SessionContext()\n",
    "ctx.register_csv(\n",
    "    \"Bid\", \"./bid_data.csv\"\n",
    ")\n",
    "\n"
   ]
  },
  {
   "cell_type": "code",
   "execution_count": 6,
   "metadata": {},
   "outputs": [
    {
     "name": "stderr",
     "output_type": "stream",
     "text": [
      "thread '<unnamed>' panicked at /Users/runner/miniforge3/conda-bld/datafusion_1720465887134/_build_env/.cargo/registry/src/index.crates.io-6f17d22bba15001f/datafusion-substrait-39.0.0/src/logical_plan/consumer.rs:1052:27:\n",
      "called `Option::unwrap()` on a `None` value\n"
     ]
    },
    {
     "ename": "PanicException",
     "evalue": "called `Option::unwrap()` on a `None` value",
     "output_type": "error",
     "traceback": [
      "\u001b[0;31m---------------------------------------------------------------------------\u001b[0m",
      "\u001b[0;31mPanicException\u001b[0m                            Traceback (most recent call last)",
      "Cell \u001b[0;32mIn[6], line 11\u001b[0m\n\u001b[1;32m      8\u001b[0m substrait_plan \u001b[38;5;241m=\u001b[39m dfs\u001b[38;5;241m.\u001b[39msubstrait\u001b[38;5;241m.\u001b[39mserde\u001b[38;5;241m.\u001b[39mdeserialize_bytes(substrait_bytes)\n\u001b[1;32m     10\u001b[0m \u001b[38;5;66;03m# Get the query plan\u001b[39;00m\n\u001b[0;32m---> 11\u001b[0m df_logical_plan \u001b[38;5;241m=\u001b[39m \u001b[43mdfs\u001b[49m\u001b[38;5;241;43m.\u001b[39;49m\u001b[43msubstrait\u001b[49m\u001b[38;5;241;43m.\u001b[39;49m\u001b[43mconsumer\u001b[49m\u001b[38;5;241;43m.\u001b[39;49m\u001b[43mfrom_substrait_plan\u001b[49m\u001b[43m(\u001b[49m\u001b[43mctx\u001b[49m\u001b[43m,\u001b[49m\u001b[43m \u001b[49m\u001b[43msubstrait_plan\u001b[49m\u001b[43m)\u001b[49m\n",
      "\u001b[0;31mPanicException\u001b[0m: called `Option::unwrap()` on a `None` value"
     ]
    }
   ],
   "source": [
    "from datafusion import substrait as dfs\n",
    "\n",
    "substrait_bytes = None\n",
    "with open(\"window_avg_price.proto\", \"rb\") as f:\n",
    "    substrait_bytes = f.read()\n",
    "\n",
    "# Deserialize the .proto file\n",
    "substrait_plan = dfs.substrait.serde.deserialize_bytes(substrait_bytes)\n",
    "\n",
    "# Get the query plan\n",
    "df_logical_plan = dfs.substrait.consumer.from_substrait_plan(ctx, substrait_plan)\n",
    "\n",
    "# Execute it!\n",
    "# results = ctx.create_dataframe_from_logical_plan(df_logical_plan)\n",
    "# print(results)"
   ]
  }
 ],
 "metadata": {
  "kernelspec": {
   "display_name": "ibis-dev-arm64",
   "language": "python",
   "name": "python3"
  },
  "language_info": {
   "codemirror_mode": {
    "name": "ipython",
    "version": 3
   },
   "file_extension": ".py",
   "mimetype": "text/x-python",
   "name": "python",
   "nbconvert_exporter": "python",
   "pygments_lexer": "ipython3",
   "version": "3.12.5"
  }
 },
 "nbformat": 4,
 "nbformat_minor": 2
}
