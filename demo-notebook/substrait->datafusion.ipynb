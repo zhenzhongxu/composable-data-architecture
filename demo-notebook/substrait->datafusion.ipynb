{
 "cells": [
  {
   "cell_type": "code",
   "execution_count": 1,
   "metadata": {},
   "outputs": [],
   "source": [
    "from datafusion import SessionContext\n",
    "\n",
    "ctx = SessionContext()\n",
    "ctx.register_csv(\n",
    "    \"Bid\", \"./bid_data.csv\"\n",
    ")\n",
    "\n"
   ]
  },
  {
   "cell_type": "code",
   "execution_count": 2,
   "metadata": {},
   "outputs": [
    {
     "name": "stdout",
     "output_type": "stream",
     "text": [
      "40.1.0\n"
     ]
    }
   ],
   "source": [
    "import datafusion\n",
    "print(datafusion.__version__)"
   ]
  },
  {
   "cell_type": "code",
   "execution_count": 3,
   "metadata": {},
   "outputs": [
    {
     "name": "stdout",
     "output_type": "stream",
     "text": [
      "Projection: Bid.auction, Bid.bidder, Bid.price, Bid.datetime, avg(Bid.price) PARTITION BY [Bid.auction] ORDER BY [Bid.datetime ASC NULLS FIRST] RANGE BETWEEN 5 PRECEDING AND 5 FOLLOWING AS avg_price\n",
      "  WindowAggr: windowExpr=[[avg(Bid.price) PARTITION BY [Bid.auction] ORDER BY [Bid.datetime ASC NULLS FIRST] RANGE BETWEEN 5 PRECEDING AND 5 FOLLOWING]]\n",
      "    TableScan: Bid projection=[auction, bidder, price, datetime]\n"
     ]
    }
   ],
   "source": [
    "from datafusion import substrait as dfs\n",
    "\n",
    "# set environment variable RUST_BACKTRACE=1\n",
    "# to see the backtrace of the panic\n",
    "\n",
    "import os\n",
    "os.environ['RUST_BACKTRACE'] = '1'\n",
    "\n",
    "substrait_bytes = None\n",
    "with open(\"window_avg_price.proto\", \"rb\") as f:\n",
    "    substrait_bytes = f.read()\n",
    "\n",
    "# Deserialize the .proto file\n",
    "substrait_plan = dfs.serde.deserialize_bytes(substrait_bytes)\n",
    "\n",
    "# Get the query plan\n",
    "df_logical_plan = dfs.consumer.from_substrait_plan(ctx, substrait_plan)\n",
    "\n",
    "print(df_logical_plan)\n",
    "\n",
    "# Execute it!\n",
    "# results = ctx.create_dataframe_from_logical_plan(df_logical_plan)\n",
    "# print(results)"
   ]
  }
 ],
 "metadata": {
  "kernelspec": {
   "display_name": "ibis-dev-arm64",
   "language": "python",
   "name": "python3"
  },
  "language_info": {
   "codemirror_mode": {
    "name": "ipython",
    "version": 3
   },
   "file_extension": ".py",
   "mimetype": "text/x-python",
   "name": "python",
   "nbconvert_exporter": "python",
   "pygments_lexer": "ipython3",
   "version": "3.12.0"
  }
 },
 "nbformat": 4,
 "nbformat_minor": 2
}
