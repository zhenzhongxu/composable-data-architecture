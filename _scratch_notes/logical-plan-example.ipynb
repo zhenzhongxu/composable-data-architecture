{
 "cells": [
  {
   "cell_type": "code",
   "execution_count": null,
   "metadata": {
    "vscode": {
     "languageId": "sql"
    }
   },
   "outputs": [],
   "source": [
    "-- Streaming: Flink SQL\n",
    "CREATE TABLE Bid (\n",
    "    `auction` BIGINT, \n",
    "    `bidder` BIGINT, \n",
    "    `price` DOUBLE, \n",
    "    `datetime` TIMESTAMP(3),\n",
    "    WATERMARK FOR datetime AS `datetime` - INTERVAL '1' SECOND\n",
    ") WITH ('connector' = 'datagen');\n",
    "\n",
    "EXPLAIN PLAN FOR \n",
    "SELECT window_start, window_end, AVG(price) AS avg_price\n",
    "FROM TABLE(HOP(TABLE Bid, DESCRIPTOR(datetime), INTERVAL '2' SECONDS, INTERVAL '10' SECONDS))\n",
    "GROUP BY window_start, window_end;\n"
   ]
  },
  {
   "cell_type": "markdown",
   "metadata": {},
   "source": [
    "| == Abstract Syntax Tree ==\n",
    "LogicalAggregate(group=[{0, 1}], avg_price=[AVG($2)])\n",
    "+- LogicalProject(window_start=[$4], window_end=[$5], price=[$2])\n",
    "   +- LogicalTableFunctionScan(invocation=[HOP(DESCRIPTOR($3), 2000:INTERVAL SECOND, 10000:INTERVAL SECOND)], rowType=[RecordType(BIGINT auction, BIGINT bidder, DOUBLE price, TIMESTAMP(3) *ROWTIME* datetime, TIMESTAMP(3) window_start, TIMESTAMP(3) window_end, TIMESTAMP(3) *ROWTIME* window_time)])\n",
    "      +- LogicalProject(auction=[$0], bidder=[$1], price=[$2], datetime=[$3])\n",
    "         +- LogicalWatermarkAssigner(rowtime=[datetime], watermark=[-($3, 1000:INTERVAL SECOND)])\n",
    "            +- LogicalTableScan(table=[[default_catalog, default_database, Bid]])\n",
    "\n",
    "== Optimized Physical Plan ==\n",
    "Calc(select=[window_start, window_end, avg_price])\n",
    "+- GlobalWindowAggregate(window=[HOP(slice_end=[$slice_end], size=[10 s], slide=[2 s])], select=[AVG((sum$0, count$1)) AS avg_price, COUNT(count1$2) AS window_start, start('w$) AS window_end])\n",
    "   +- Exchange(distribution=[single])\n",
    "      +- LocalWindowAggregate(window=[HOP(time_col=[datetime], size=[10 s], slide=[2 s])], select=[AVG(price) AS (sum$0, count$1), COUNT(*) AS count1$2, slice_end('w$) AS $slice_end])\n",
    "         +- Calc(select=[price, datetime])\n",
    "            +- WatermarkAssigner(rowtime=[datetime], watermark=[-(datetime, 1000:INTERVAL SECOND)])\n",
    "               +- TableSourceScan(table=[[default_catalog, default_database, Bid]], fields=[auction, bidder, price, datetime])\n",
    "\n",
    "== Optimized Execution Plan ==\n",
    "Calc(select=[window_start, window_end, avg_price])\n",
    "+- GlobalWindowAggregate(window=[HOP(slice_end=[$slice_end], size=[10 s], slide=[2 s])], select=[AVG((sum$0, count$1)) AS avg_price, COUNT(count1$2) AS window_start, start('w$) AS window_end])\n",
    "   +- Exchange(distribution=[single])\n",
    "      +- LocalWindowAggregate(window=[HOP(time_col=[datetime], size=[10 s], slide=[2 s])], select=[AVG(price) AS (sum$0, count$1), COUNT(*) AS count1$2, slice_end('w$) AS $slice_end])\n",
    "         +- Calc(select=[price, datetime])\n",
    "            +- WatermarkAssigner(rowtime=[datetime], watermark=[(datetime - 1000:INTERVAL SECOND)])\n",
    "               +- TableSourceScan(table=[[default_catalog, default_database, Bid]], fields=[auction, bidder, price, datetime])\n",
    " |"
   ]
  }
 ],
 "metadata": {
  "kernelspec": {
   "display_name": "ibis-dev-arm64",
   "language": "python",
   "name": "python3"
  },
  "language_info": {
   "codemirror_mode": {
    "name": "ipython",
    "version": 3
   },
   "file_extension": ".py",
   "mimetype": "text/x-python",
   "name": "python",
   "nbconvert_exporter": "python",
   "pygments_lexer": "ipython3",
   "version": "3.12.5"
  }
 },
 "nbformat": 4,
 "nbformat_minor": 2
}
